{
 "cells": [
  {
   "cell_type": "code",
   "execution_count": 1,
   "id": "6feedb18",
   "metadata": {},
   "outputs": [],
   "source": [
    "%load_ext autoreload\n",
    "%autoreload 2"
   ]
  },
  {
   "cell_type": "code",
   "execution_count": 3,
   "id": "e4c74945",
   "metadata": {},
   "outputs": [],
   "source": [
    "import torch\n",
    "from matplotlib import pyplot as plt\n",
    "\n",
    "# from lab1.brownian_motion import device\n",
    "from lab_one import (BrownianMotion, EulerMaruyamaSimulator, plot_trajectories_1d)"
   ]
  },
  {
   "cell_type": "code",
   "execution_count": null,
   "id": "9251634f",
   "metadata": {},
   "outputs": [],
   "source": [
    "device = torch.device('cuda' if torch.cuda.is_available() else 'cpu')\n",
    "sigma = 1.0\n",
    "brownian_motion = BrownianMotion(sigma)\n",
    "simulator = EulerMaruyamaSimulator(sde=brownian_motion)\n",
    "x0 = torch.zeros(5, 1).to(device)  # Initial values - let's start at zero\n",
    "ts = torch.linspace(0.0, 5.0, 500).to(device)  # simulation timesteps\n",
    "\n",
    "plt.figure(figsize=(8, 8))\n",
    "ax = plt.gca()\n",
    "ax.set_title(r'Trajectories of Brownian Motion with $\\sigma=$' + str(sigma), fontsize=18)\n",
    "ax.set_xlabel(r'Time ($t$)', fontsize=18)\n",
    "ax.set_ylabel(r'$X_t$', fontsize=18)\n",
    "plot_trajectories_1d(x0, simulator, ts, ax)\n",
    "plt.show()"
   ]
  }
 ],
 "metadata": {
  "kernelspec": {
   "display_name": "venv",
   "language": "python",
   "name": "python3"
  },
  "language_info": {
   "codemirror_mode": {
    "name": "ipython",
    "version": 3
   },
   "file_extension": ".py",
   "mimetype": "text/x-python",
   "name": "python",
   "nbconvert_exporter": "python",
   "pygments_lexer": "ipython3",
   "version": "3.9.6"
  }
 },
 "nbformat": 4,
 "nbformat_minor": 5
}
